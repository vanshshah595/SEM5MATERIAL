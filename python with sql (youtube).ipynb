{
 "cells": [
  {
   "cell_type": "code",
   "execution_count": 3,
   "id": "d34156f9",
   "metadata": {},
   "outputs": [
    {
     "name": "stdout",
     "output_type": "stream",
     "text": [
      "<mysql.connector.connection_cext.CMySQLConnection object at 0x00000188E3C8F340>\n"
     ]
    }
   ],
   "source": [
    "#creating connection\n",
    "import mysql.connector\n",
    "mydb = mysql.connector.connect(host=\"localhost\",\n",
    "                               user=\"root\",\n",
    "                               password=\"vansh.hp\",\n",
    "                               database=\"database_from_python\"\n",
    "                              )\n",
    "print(mydb)"
   ]
  },
  {
   "cell_type": "code",
   "execution_count": null,
   "id": "c6c8a3a9",
   "metadata": {},
   "outputs": [],
   "source": [
    "#database creation\n",
    "cur=mydb.cursor()\n",
    "cur.execute(\"create database database_from_python\")"
   ]
  },
  {
   "cell_type": "code",
   "execution_count": null,
   "id": "ddd35f05",
   "metadata": {},
   "outputs": [],
   "source": [
    "#table creation\n",
    "cur=mydb.cursor()\n",
    "#table = \"create table books(book_id int,title varchar(30),price float)\"\n",
    "cur.execute(\"create table books(book_id int,title varchar(30),price float)\")"
   ]
  },
  {
   "cell_type": "code",
   "execution_count": null,
   "id": "b6f40ad8",
   "metadata": {},
   "outputs": [],
   "source": [
    "#drop table\n",
    "cur.execute(\"drop table books\")"
   ]
  },
  {
   "cell_type": "code",
   "execution_count": 12,
   "id": "3c1cd7cb",
   "metadata": {},
   "outputs": [],
   "source": [
    "#insert data\n",
    "cur=mydb.cursor()\n",
    "a = \"insert into books values(%s,%s,%s)\"\n",
    "b1=(1,'economics',350)\n",
    "cur.execute(a,b1)\n",
    "mydb.commit()"
   ]
  },
  {
   "cell_type": "code",
   "execution_count": 8,
   "id": "d79a98f2",
   "metadata": {},
   "outputs": [],
   "source": [
    "#multiple record insertion\n",
    "cur=mydb.cursor()\n",
    "a = \"insert into books values (%s,%s,%s)\"\n",
    "books=[(2,'python',300),(3,'power bi',290),(4,'excel',150)]\n",
    "cur.executemany(a,books)\n",
    "mydb.commit()"
   ]
  },
  {
   "cell_type": "code",
   "execution_count": 11,
   "id": "4f689d22",
   "metadata": {},
   "outputs": [],
   "source": [
    "#delete record\n",
    "cur=mydb.cursor()\n",
    "cur.execute(\"delete from books where book_id = 1\")\n",
    "mydb.commit()"
   ]
  },
  {
   "cell_type": "code",
   "execution_count": 4,
   "id": "a1e708de",
   "metadata": {},
   "outputs": [
    {
     "ename": "InternalError",
     "evalue": "Unread result found",
     "output_type": "error",
     "traceback": [
      "\u001b[1;31m---------------------------------------------------------------------------\u001b[0m",
      "\u001b[1;31mInternalError\u001b[0m                             Traceback (most recent call last)",
      "Cell \u001b[1;32mIn[4], line 3\u001b[0m\n\u001b[0;32m      1\u001b[0m cur\u001b[38;5;241m=\u001b[39mmydb\u001b[38;5;241m.\u001b[39mcursor()\n\u001b[0;32m      2\u001b[0m cur\u001b[38;5;241m.\u001b[39mexecute(\u001b[38;5;124m\"\u001b[39m\u001b[38;5;124mselect * from books\u001b[39m\u001b[38;5;124m\"\u001b[39m)\n\u001b[1;32m----> 3\u001b[0m \u001b[43mmydb\u001b[49m\u001b[38;5;241;43m.\u001b[39;49m\u001b[43mcommit\u001b[49m\u001b[43m(\u001b[49m\u001b[43m)\u001b[49m\n",
      "File \u001b[1;32m~\\anaconda3\\lib\\site-packages\\mysql\\connector\\connection_cext.py:489\u001b[0m, in \u001b[0;36mCMySQLConnection.commit\u001b[1;34m(self)\u001b[0m\n\u001b[0;32m    487\u001b[0m \u001b[38;5;124;03m\"\"\"Commit current transaction\"\"\"\u001b[39;00m\n\u001b[0;32m    488\u001b[0m \u001b[38;5;28;01mif\u001b[39;00m \u001b[38;5;28mself\u001b[39m\u001b[38;5;241m.\u001b[39m_cmysql:\n\u001b[1;32m--> 489\u001b[0m     \u001b[38;5;28;43mself\u001b[39;49m\u001b[38;5;241;43m.\u001b[39;49m\u001b[43mhandle_unread_result\u001b[49m\u001b[43m(\u001b[49m\u001b[43m)\u001b[49m\n\u001b[0;32m    490\u001b[0m     \u001b[38;5;28mself\u001b[39m\u001b[38;5;241m.\u001b[39m_cmysql\u001b[38;5;241m.\u001b[39mcommit()\n",
      "File \u001b[1;32m~\\anaconda3\\lib\\site-packages\\mysql\\connector\\connection_cext.py:932\u001b[0m, in \u001b[0;36mCMySQLConnection.handle_unread_result\u001b[1;34m(self, prepared)\u001b[0m\n\u001b[0;32m    930\u001b[0m     \u001b[38;5;28mself\u001b[39m\u001b[38;5;241m.\u001b[39mconsume_results()\n\u001b[0;32m    931\u001b[0m \u001b[38;5;28;01melif\u001b[39;00m unread_result:\n\u001b[1;32m--> 932\u001b[0m     \u001b[38;5;28;01mraise\u001b[39;00m InternalError(\u001b[38;5;124m\"\u001b[39m\u001b[38;5;124mUnread result found\u001b[39m\u001b[38;5;124m\"\u001b[39m)\n",
      "\u001b[1;31mInternalError\u001b[0m: Unread result found"
     ]
    }
   ],
   "source": [
    "cur=mydb.cursor()\n",
    "cur.execute(\"select * from books\")\n",
    "mydb.commit()"
   ]
  }
 ],
 "metadata": {
  "kernelspec": {
   "display_name": "Python 3 (ipykernel)",
   "language": "python",
   "name": "python3"
  },
  "language_info": {
   "codemirror_mode": {
    "name": "ipython",
    "version": 3
   },
   "file_extension": ".py",
   "mimetype": "text/x-python",
   "name": "python",
   "nbconvert_exporter": "python",
   "pygments_lexer": "ipython3",
   "version": "3.10.9"
  }
 },
 "nbformat": 4,
 "nbformat_minor": 5
}
