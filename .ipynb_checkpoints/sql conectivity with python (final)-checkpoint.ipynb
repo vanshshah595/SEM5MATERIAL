{
 "cells": [
  {
   "cell_type": "code",
   "execution_count": 1,
   "id": "1721a729",
   "metadata": {},
   "outputs": [
    {
     "name": "stdout",
     "output_type": "stream",
     "text": [
      "Requirement already satisfied: mysql-connector-python in c:\\users\\vansh\\anaconda3\\lib\\site-packages (8.0.33)\n",
      "Requirement already satisfied: protobuf<=3.20.3,>=3.11.0 in c:\\users\\vansh\\anaconda3\\lib\\site-packages (from mysql-connector-python) (3.20.3)\n",
      "Note: you may need to restart the kernel to use updated packages.\n"
     ]
    }
   ],
   "source": [
    "pip install mysql-connector-python"
   ]
  },
  {
   "cell_type": "code",
   "execution_count": 1,
   "id": "be86f2f9",
   "metadata": {},
   "outputs": [],
   "source": [
    "import mysql.connector as sql"
   ]
  },
  {
   "cell_type": "code",
   "execution_count": 2,
   "id": "42bb95a3",
   "metadata": {},
   "outputs": [
    {
     "name": "stdout",
     "output_type": "stream",
     "text": [
      "<mysql.connector.connection_cext.CMySQLConnection object at 0x0000020E74166F50>\n"
     ]
    }
   ],
   "source": [
    "mydb = sql.connect(\n",
    "    host='localhost',\n",
    "    user='root',\n",
    "    password='vansh.hp',\n",
    "    database='language_analysis'\n",
    ")\n",
    "\n",
    "print(mydb)"
   ]
  },
  {
   "cell_type": "code",
   "execution_count": 3,
   "id": "3ccf9283",
   "metadata": {},
   "outputs": [],
   "source": [
    "mycursor=mydb.cursor()"
   ]
  },
  {
   "cell_type": "code",
   "execution_count": 4,
   "id": "8a950214",
   "metadata": {},
   "outputs": [
    {
     "name": "stdout",
     "output_type": "stream",
     "text": [
      "('database_from_python',)\n",
      "('exercise',)\n",
      "('information_schema',)\n",
      "('joins',)\n",
      "('language_analysis',)\n",
      "('mysql',)\n",
      "('performance_schema',)\n",
      "('practice',)\n",
      "('sd',)\n",
      "('shop',)\n",
      "('sub_query',)\n",
      "('sys',)\n",
      "('testdb',)\n",
      "('user',)\n",
      "('users',)\n"
     ]
    }
   ],
   "source": [
    "mycursor.execute(\"show databases\")\n",
    "for i in mycursor:\n",
    "    print(i)"
   ]
  },
  {
   "cell_type": "code",
   "execution_count": 5,
   "id": "f9741bd6",
   "metadata": {},
   "outputs": [
    {
     "name": "stdout",
     "output_type": "stream",
     "text": [
      "('df2',)\n",
      "('xyz',)\n"
     ]
    }
   ],
   "source": [
    "mycursor.execute(\"show tables\")\n",
    "for i in mycursor:\n",
    "    print(i)"
   ]
  },
  {
   "cell_type": "code",
   "execution_count": 8,
   "id": "a8254767",
   "metadata": {},
   "outputs": [
    {
     "name": "stdout",
     "output_type": "stream",
     "text": [
      "('Python', 60, 'Delhi', 22.68)\n",
      "('C', 10, 'Gujarat', 13.21)\n",
      "('PHP', 80, 'Kerala', 80.89)\n",
      "('AI', 50, 'MP', 56.49)\n",
      "('React', 80, 'Punjab', 32.78)\n",
      "('C++', 30, 'UP', 76.12)\n"
     ]
    }
   ],
   "source": [
    "mycursor.execute(\"select * from xyz\")\n",
    "for i in mycursor:\n",
    "    print(i)"
   ]
  },
  {
   "cell_type": "code",
   "execution_count": 6,
   "id": "9afa1238",
   "metadata": {},
   "outputs": [
    {
     "name": "stdout",
     "output_type": "stream",
     "text": [
      "('Gujarat', 'React', 80)\n",
      "('Maharashtra', 'Python', 30)\n",
      "('Punjab', 'PHP', 40)\n",
      "('MP', 'C', 50)\n",
      "('UP', 'C++', 60)\n",
      "('Kerala', 'React', 40)\n"
     ]
    }
   ],
   "source": [
    "mycursor.execute(\"select * from df2\")\n",
    "for i in mycursor:\n",
    "    print(i)"
   ]
  },
  {
   "cell_type": "code",
   "execution_count": 9,
   "id": "adb64aac",
   "metadata": {},
   "outputs": [
    {
     "name": "stdout",
     "output_type": "stream",
     "text": [
      "('xyz',)\n"
     ]
    }
   ],
   "source": [
    "mycursor.execute(\"show tables\")\n",
    "for i in mycursor:\n",
    "    print(i)"
   ]
  }
 ],
 "metadata": {
  "kernelspec": {
   "display_name": "Python 3 (ipykernel)",
   "language": "python",
   "name": "python3"
  },
  "language_info": {
   "codemirror_mode": {
    "name": "ipython",
    "version": 3
   },
   "file_extension": ".py",
   "mimetype": "text/x-python",
   "name": "python",
   "nbconvert_exporter": "python",
   "pygments_lexer": "ipython3",
   "version": "3.10.9"
  }
 },
 "nbformat": 4,
 "nbformat_minor": 5
}
