{
 "cells": [
  {
   "cell_type": "code",
   "execution_count": 1,
   "id": "d34156f9",
   "metadata": {},
   "outputs": [
    {
     "name": "stdout",
     "output_type": "stream",
     "text": [
      "<mysql.connector.connection_cext.CMySQLConnection object at 0x00000142B64FA800>\n"
     ]
    }
   ],
   "source": [
    "#creating connection\n",
    "import mysql.connector\n",
    "mydb = mysql.connector.connect(host=\"localhost\",\n",
    "                               user=\"root\",\n",
    "                               password=\"vansh.hp\",\n",
    "                               database=\"database_from_python\"\n",
    "                              )\n",
    "print(mydb)"
   ]
  },
  {
   "cell_type": "code",
   "execution_count": null,
   "id": "c6c8a3a9",
   "metadata": {},
   "outputs": [],
   "source": [
    "#database creation\n",
    "cur=mydb.cursor()\n",
    "cur.execute(\"create database database_from_python\")"
   ]
  },
  {
   "cell_type": "code",
   "execution_count": null,
   "id": "ddd35f05",
   "metadata": {},
   "outputs": [],
   "source": [
    "#table creation\n",
    "cur=mydb.cursor()\n",
    "#table = \"create table books(book_id int,title varchar(30),price float)\"\n",
    "cur.execute(\"create table books(book_id int,title varchar(30),price float)\")"
   ]
  },
  {
   "cell_type": "code",
   "execution_count": null,
   "id": "b6f40ad8",
   "metadata": {},
   "outputs": [],
   "source": [
    "#drop table\n",
    "cur.execute(\"drop table books\")"
   ]
  },
  {
   "cell_type": "code",
   "execution_count": 12,
   "id": "3c1cd7cb",
   "metadata": {},
   "outputs": [],
   "source": [
    "#insert data\n",
    "cur=mydb.cursor()\n",
    "a = \"insert into books values(%s,%s,%s)\"\n",
    "b1=(1,'economics',350)\n",
    "cur.execute(a,b1)\n",
    "mydb.commit()"
   ]
  },
  {
   "cell_type": "code",
   "execution_count": 8,
   "id": "d79a98f2",
   "metadata": {},
   "outputs": [],
   "source": [
    "#multiple record insertion\n",
    "cur=mydb.cursor()\n",
    "a = \"insert into books values (%s,%s,%s)\"\n",
    "books=[(2,'python',300),(3,'power bi',290),(4,'excel',150)]\n",
    "cur.executemany(a,books)\n",
    "mydb.commit()"
   ]
  },
  {
   "cell_type": "code",
   "execution_count": 11,
   "id": "4f689d22",
   "metadata": {},
   "outputs": [],
   "source": [
    "#delete record\n",
    "cur=mydb.cursor()\n",
    "cur.execute(\"delete from books where book_id = 1\")\n",
    "mydb.commit()"
   ]
  },
  {
   "cell_type": "code",
   "execution_count": null,
   "id": "a1e708de",
   "metadata": {},
   "outputs": [],
   "source": []
  }
 ],
 "metadata": {
  "kernelspec": {
   "display_name": "Python 3 (ipykernel)",
   "language": "python",
   "name": "python3"
  },
  "language_info": {
   "codemirror_mode": {
    "name": "ipython",
    "version": 3
   },
   "file_extension": ".py",
   "mimetype": "text/x-python",
   "name": "python",
   "nbconvert_exporter": "python",
   "pygments_lexer": "ipython3",
   "version": "3.10.9"
  }
 },
 "nbformat": 4,
 "nbformat_minor": 5
}
