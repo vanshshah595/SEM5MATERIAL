{
 "cells": [
  {
   "cell_type": "code",
   "execution_count": 1,
   "id": "e8912e22",
   "metadata": {},
   "outputs": [
    {
     "name": "stdout",
     "output_type": "stream",
     "text": [
      "Note: you may need to restart the kernel to use updated packages.\n"
     ]
    }
   ],
   "source": [
    "%pip install pandas seaborn pip install memory-profiler --quiet"
   ]
  },
  {
   "cell_type": "code",
   "execution_count": 2,
   "id": "c3f8bce2",
   "metadata": {},
   "outputs": [
    {
     "data": {
      "text/plain": [
       "244"
      ]
     },
     "execution_count": 2,
     "metadata": {},
     "output_type": "execute_result"
    }
   ],
   "source": [
    "import seaborn as sb\n",
    "\n",
    "df = sb.load_dataset('tips')\n",
    "conn = \"sqlite:///example\"\n",
    "df.to_sql(\n",
    "            'tips',            \n",
    "            conn,                \n",
    "            if_exists='replace'\n",
    "           )"
   ]
  },
  {
   "cell_type": "code",
   "execution_count": null,
   "id": "df256a30",
   "metadata": {},
   "outputs": [],
   "source": [
    "import pandas as pd\n",
    "query_result = pd.read_sql(\"\"\"\n",
    "            SELECT total_bill, tip, sex\n",
    "            FROM tips\n",
    "            WHERE time='Dinner'\n",
    "            \"\"\", con=conn)\n",
    "query_result.head()"
   ]
  },
  {
   "cell_type": "code",
   "execution_count": null,
   "id": "040e0f3f",
   "metadata": {},
   "outputs": [],
   "source": [
    "!python -m memory_profiler read_tips.py"
   ]
  },
  {
   "cell_type": "code",
   "execution_count": null,
   "id": "c2534969",
   "metadata": {},
   "outputs": [],
   "source": [
    "!python -m memory_profiler read_tips_chunksize.py"
   ]
  },
  {
   "cell_type": "code",
   "execution_count": null,
   "id": "42857e76",
   "metadata": {},
   "outputs": [],
   "source": []
  }
 ],
 "metadata": {
  "kernelspec": {
   "display_name": "Python 3 (ipykernel)",
   "language": "python",
   "name": "python3"
  },
  "language_info": {
   "codemirror_mode": {
    "name": "ipython",
    "version": 3
   },
   "file_extension": ".py",
   "mimetype": "text/x-python",
   "name": "python",
   "nbconvert_exporter": "python",
   "pygments_lexer": "ipython3",
   "version": "3.11.3"
  }
 },
 "nbformat": 4,
 "nbformat_minor": 5
}
