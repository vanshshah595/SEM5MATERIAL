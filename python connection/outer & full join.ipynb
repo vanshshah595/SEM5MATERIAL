{
 "cells": [
  {
   "cell_type": "code",
   "execution_count": 3,
   "id": "4edbb8bb",
   "metadata": {},
   "outputs": [
    {
     "name": "stdout",
     "output_type": "stream",
     "text": [
      "    Courses    Fee Duration\n",
      "r1      SQL  20000   30days\n",
      "r2  PySpark  25000   40days\n",
      "r3   Python  22000   35days\n",
      "r4   pandas  30000   50days\n",
      "   Courses  Discount\n",
      "r1     SQL      2000\n",
      "r6    Java      2300\n",
      "r3  Python      1200\n",
      "r5      Go      2000\n"
     ]
    }
   ],
   "source": [
    "#OUTER JOIN\n",
    "#DEFINATION:-In SQL the FULL OUTER JOIN combines the results of both left and right outer joins and returns all (matched or unmatched) rows from the tables on both sides of the join clause.\n",
    "\n",
    "\n",
    "# Create DataFrames\n",
    "import pandas as pd\n",
    "technologies = {\n",
    "    'Courses':[\"SQL\",\"PySpark\",\"Python\",\"pandas\"],\n",
    "    'Fee' :[20000,25000,22000,30000],\n",
    "    'Duration':['30days','40days','35days','50days'],\n",
    "              }\n",
    "index_labels=['r1','r2','r3','r4']\n",
    "df1 = pd.DataFrame(technologies,index=index_labels)\n",
    "\n",
    "technologies2 = {\n",
    "    'Courses':[\"SQL\",\"Java\",\"Python\",\"Go\"],\n",
    "    'Discount':[2000,2300,1200,2000]\n",
    "              }\n",
    "index_labels2=['r1','r6','r3','r5']\n",
    "df2 = pd.DataFrame(technologies2,index=index_labels2)\n",
    "\n",
    "print(df1)\n",
    "\n",
    "print(df2)\n"
   ]
  },
  {
   "cell_type": "code",
   "execution_count": 4,
   "id": "e18f13d8",
   "metadata": {},
   "outputs": [
    {
     "name": "stdout",
     "output_type": "stream",
     "text": [
      "   Courses_left      Fee Duration Courses_right  Discount\n",
      "r1          SQL  20000.0   30days           SQL    2000.0\n",
      "r2      PySpark  25000.0   40days           NaN       NaN\n",
      "r3       Python  22000.0   35days        Python    1200.0\n",
      "r4       pandas  30000.0   50days           NaN       NaN\n",
      "r5          NaN      NaN      NaN            Go    2000.0\n",
      "r6          NaN      NaN      NaN          Java    2300.0\n"
     ]
    }
   ],
   "source": [
    "\n",
    "# Pandas join two DataFrames\n",
    "df3=df1.join(df2, lsuffix=\"_left\", rsuffix=\"_right\", how='outer')\n",
    "print(df3)\n"
   ]
  },
  {
   "cell_type": "code",
   "execution_count": 6,
   "id": "0a027103",
   "metadata": {},
   "outputs": [
    {
     "name": "stdout",
     "output_type": "stream",
     "text": [
      "   Courses      Fee Duration  Discount\n",
      "0      SQL  20000.0   30days    2000.0\n",
      "1  PySpark  25000.0   40days       NaN\n",
      "2   Python  22000.0   35days    1200.0\n",
      "3   pandas  30000.0   50days       NaN\n",
      "4     Java      NaN      NaN    2300.0\n",
      "5       Go      NaN      NaN    2000.0\n"
     ]
    }
   ],
   "source": [
    "\n",
    "# Pandas.merge()\n",
    "df3=pd.merge(df1,df2, how='outer')\n",
    "\n",
    "# DataFrame.merge()\n",
    "df3=df1.merge(df2, how='outer')\n",
    "\n",
    "print(df3)"
   ]
  },
  {
   "cell_type": "code",
   "execution_count": 8,
   "id": "c514b0a4",
   "metadata": {},
   "outputs": [
    {
     "name": "stdout",
     "output_type": "stream",
     "text": [
      "   Courses      Fee Duration  Discount\n",
      "0      SQL  20000.0   30days    2000.0\n",
      "1  PySpark  25000.0   40days       NaN\n",
      "2   Python  22000.0   35days    1200.0\n",
      "3   pandas  30000.0   50days       NaN\n",
      "4     Java      NaN      NaN    2300.0\n",
      "5       Go      NaN      NaN    2000.0\n"
     ]
    }
   ],
   "source": [
    "\n",
    "# Merge DataFrames by Columns in sql\n",
    "df3=pd.merge(df1,df2, on='Courses', how='outer')\n",
    "print(df3)\n"
   ]
  },
  {
   "cell_type": "code",
   "execution_count": 9,
   "id": "f21db915",
   "metadata": {},
   "outputs": [
    {
     "name": "stdout",
     "output_type": "stream",
     "text": [
      "   Courses      Fee Duration  Discount\n",
      "0      SQL  20000.0   30days    2000.0\n",
      "1  PySpark  25000.0   40days       NaN\n",
      "2   Python  22000.0   35days    1200.0\n",
      "3   pandas  30000.0   50days       NaN\n",
      "4     Java      NaN      NaN    2300.0\n",
      "5       Go      NaN      NaN    2000.0\n"
     ]
    }
   ],
   "source": [
    "\n",
    "# When column names are different\n",
    "df3=pd.merge(df1,df2, left_on='Courses', right_on='Courses', how='outer')\n",
    "print(df3)\n"
   ]
  },
  {
   "cell_type": "code",
   "execution_count": 10,
   "id": "754c3aec",
   "metadata": {},
   "outputs": [
    {
     "name": "stdout",
     "output_type": "stream",
     "text": [
      "    Courses      Fee Duration Courses  Discount\n",
      "r1      SQL  20000.0   30days     SQL    2000.0\n",
      "r2  PySpark  25000.0   40days     NaN       NaN\n",
      "r3   Python  22000.0   35days  Python    1200.0\n",
      "r4   pandas  30000.0   50days     NaN       NaN\n",
      "r6      NaN      NaN      NaN    Java    2300.0\n",
      "r5      NaN      NaN      NaN      Go    2000.0\n"
     ]
    }
   ],
   "source": [
    "\n",
    "# By using concat()\n",
    "df3=pd.concat([df1,df2],axis=1,join='outer')\n",
    "print(df3)\n"
   ]
  },
  {
   "cell_type": "code",
   "execution_count": 11,
   "id": "055acb03",
   "metadata": {},
   "outputs": [
    {
     "name": "stdout",
     "output_type": "stream",
     "text": [
      "    Courses    Fee Duration\n",
      "r1    Spark  20000   30days\n",
      "r2  PySpark  25000   40days\n",
      "r3   Python  22000   35days\n",
      "r4   pandas  30000   50days\n",
      "   Courses  Discount\n",
      "r1   Spark      2000\n",
      "r6    Java      2300\n",
      "r3  Python      1200\n",
      "r5      Go      2000\n",
      "   Courses_left      Fee Duration Courses_right  Discount\n",
      "r1        Spark  20000.0   30days         Spark    2000.0\n",
      "r2      PySpark  25000.0   40days           NaN       NaN\n",
      "r3       Python  22000.0   35days        Python    1200.0\n",
      "r4       pandas  30000.0   50days           NaN       NaN\n",
      "r5          NaN      NaN      NaN            Go    2000.0\n",
      "r6          NaN      NaN      NaN          Java    2300.0\n",
      "   Courses      Fee Duration  Discount\n",
      "0    Spark  20000.0   30days    2000.0\n",
      "1  PySpark  25000.0   40days       NaN\n",
      "2   Python  22000.0   35days    1200.0\n",
      "3   pandas  30000.0   50days       NaN\n",
      "4     Java      NaN      NaN    2300.0\n",
      "5       Go      NaN      NaN    2000.0\n",
      "    Courses      Fee Duration Courses  Discount\n",
      "r1    Spark  20000.0   30days   Spark    2000.0\n",
      "r2  PySpark  25000.0   40days     NaN       NaN\n",
      "r3   Python  22000.0   35days  Python    1200.0\n",
      "r4   pandas  30000.0   50days     NaN       NaN\n",
      "r6      NaN      NaN      NaN    Java    2300.0\n",
      "r5      NaN      NaN      NaN      Go    2000.0\n"
     ]
    }
   ],
   "source": [
    "\n",
    "import pandas as pd\n",
    "technologies = {\n",
    "    'Courses':[\"Spark\",\"PySpark\",\"Python\",\"pandas\"],\n",
    "    'Fee' :[20000,25000,22000,30000],\n",
    "    'Duration':['30days','40days','35days','50days'],\n",
    "              }\n",
    "index_labels=['r1','r2','r3','r4']\n",
    "df1 = pd.DataFrame(technologies,index=index_labels)\n",
    "\n",
    "technologies2 = {\n",
    "    'Courses':[\"Spark\",\"Java\",\"Python\",\"Go\"],\n",
    "    'Discount':[2000,2300,1200,2000]\n",
    "              }\n",
    "index_labels2=['r1','r6','r3','r5']\n",
    "df2 = pd.DataFrame(technologies2,index=index_labels2)\n",
    "\n",
    "print(df1)\n",
    "print(df2)\n",
    "\n",
    "# Pandas join two DataFrames\n",
    "df3=df1.join(df2, lsuffix=\"_left\", rsuffix=\"_right\", how='outer')\n",
    "print(df3)\n",
    "\n",
    "# Pandas.merge()\n",
    "df3=pd.merge(df1,df2, how='outer')\n",
    "\n",
    "# DataFrame.merge()\n",
    "df3=df1.merge(df2, how='outer')\n",
    "\n",
    "# Merge DataFrames by Columns\n",
    "df3=pd.merge(df1,df2, on='Courses', how='outer')\n",
    "\n",
    "# When column names are different\n",
    "df3=pd.merge(df1,df2, left_on='Courses', right_on='Courses', how='outer')\n",
    "print(df3)\n",
    "\n",
    "# By using concat()\n",
    "df3=pd.concat([df1,df2],axis=1,join='outer')\n",
    "print(df3)\n"
   ]
  },
  {
   "cell_type": "code",
   "execution_count": null,
   "id": "909d8878",
   "metadata": {},
   "outputs": [],
   "source": []
  }
 ],
 "metadata": {
  "kernelspec": {
   "display_name": "Python 3 (ipykernel)",
   "language": "python",
   "name": "python3"
  },
  "language_info": {
   "codemirror_mode": {
    "name": "ipython",
    "version": 3
   },
   "file_extension": ".py",
   "mimetype": "text/x-python",
   "name": "python",
   "nbconvert_exporter": "python",
   "pygments_lexer": "ipython3",
   "version": "3.10.9"
  }
 },
 "nbformat": 4,
 "nbformat_minor": 5
}
